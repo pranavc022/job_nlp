{
 "cells": [
  {
   "cell_type": "code",
   "execution_count": 2,
   "metadata": {},
   "outputs": [
    {
     "name": "stdout",
     "output_type": "stream",
     "text": [
      "Requirement already satisfied: nltk in c:\\users\\prana\\appdata\\local\\packages\\pythonsoftwarefoundation.python.3.10_qbz5n2kfra8p0\\localcache\\local-packages\\python310\\site-packages (3.8.1)\n",
      "Requirement already satisfied: click in c:\\users\\prana\\appdata\\local\\packages\\pythonsoftwarefoundation.python.3.10_qbz5n2kfra8p0\\localcache\\local-packages\\python310\\site-packages (from nltk) (8.1.4)\n",
      "Requirement already satisfied: regex>=2021.8.3 in c:\\users\\prana\\appdata\\local\\packages\\pythonsoftwarefoundation.python.3.10_qbz5n2kfra8p0\\localcache\\local-packages\\python310\\site-packages (from nltk) (2023.6.3)\n",
      "Requirement already satisfied: tqdm in c:\\users\\prana\\appdata\\local\\packages\\pythonsoftwarefoundation.python.3.10_qbz5n2kfra8p0\\localcache\\local-packages\\python310\\site-packages (from nltk) (4.65.0)\n",
      "Requirement already satisfied: joblib in c:\\users\\prana\\appdata\\local\\packages\\pythonsoftwarefoundation.python.3.10_qbz5n2kfra8p0\\localcache\\local-packages\\python310\\site-packages (from nltk) (1.3.1)\n",
      "Requirement already satisfied: colorama in c:\\users\\prana\\appdata\\local\\packages\\pythonsoftwarefoundation.python.3.10_qbz5n2kfra8p0\\localcache\\local-packages\\python310\\site-packages (from click->nltk) (0.4.6)\n"
     ]
    },
    {
     "name": "stderr",
     "output_type": "stream",
     "text": [
      "\n",
      "[notice] A new release of pip is available: 23.0.1 -> 23.1.2\n",
      "[notice] To update, run: C:\\Users\\prana\\AppData\\Local\\Microsoft\\WindowsApps\\PythonSoftwareFoundation.Python.3.10_qbz5n2kfra8p0\\python.exe -m pip install --upgrade pip\n"
     ]
    },
    {
     "name": "stdout",
     "output_type": "stream",
     "text": [
      "Requirement already satisfied: plotly in c:\\users\\prana\\appdata\\local\\packages\\pythonsoftwarefoundation.python.3.10_qbz5n2kfra8p0\\localcache\\local-packages\\python310\\site-packages (5.15.0)\n",
      "Requirement already satisfied: packaging in c:\\users\\prana\\appdata\\local\\packages\\pythonsoftwarefoundation.python.3.10_qbz5n2kfra8p0\\localcache\\local-packages\\python310\\site-packages (from plotly) (21.3)\n",
      "Requirement already satisfied: tenacity>=6.2.0 in c:\\users\\prana\\appdata\\local\\packages\\pythonsoftwarefoundation.python.3.10_qbz5n2kfra8p0\\localcache\\local-packages\\python310\\site-packages (from plotly) (8.2.2)\n",
      "Requirement already satisfied: pyparsing!=3.0.5,>=2.0.2 in c:\\users\\prana\\appdata\\local\\packages\\pythonsoftwarefoundation.python.3.10_qbz5n2kfra8p0\\localcache\\local-packages\\python310\\site-packages (from packaging->plotly) (3.0.9)\n"
     ]
    },
    {
     "name": "stderr",
     "output_type": "stream",
     "text": [
      "\n",
      "[notice] A new release of pip is available: 23.0.1 -> 23.1.2\n",
      "[notice] To update, run: C:\\Users\\prana\\AppData\\Local\\Microsoft\\WindowsApps\\PythonSoftwareFoundation.Python.3.10_qbz5n2kfra8p0\\python.exe -m pip install --upgrade pip\n"
     ]
    }
   ],
   "source": [
    "!pip install nltk\n",
    "!pip install plotly"
   ]
  },
  {
   "cell_type": "code",
   "execution_count": 3,
   "metadata": {},
   "outputs": [],
   "source": [
    "from collections import Counter\n",
    "import pandas as pd\n",
    "import nltk\n",
    "import string\n",
    "from nltk.tokenize import word_tokenize\n",
    "\n",
    "import math\n",
    "\n",
    "from plotly import __version__\n",
    "from plotly.offline import download_plotlyjs, init_notebook_mode, plot, iplot\n",
    "import plotly.graph_objs as go"
   ]
  },
  {
   "cell_type": "code",
   "execution_count": 4,
   "metadata": {},
   "outputs": [],
   "source": [
    "df = pd.read_csv('job_data1.csv')"
   ]
  },
  {
   "cell_type": "code",
   "execution_count": 5,
   "metadata": {},
   "outputs": [
    {
     "data": {
      "text/plain": [
       "Index(['Date Posted', 'Job Title', 'Job Salary', 'Job Experience Required',\n",
       "       'Key Skills', 'Role Category', 'Location', 'Functional Area',\n",
       "       'Industry', 'Role'],\n",
       "      dtype='object')"
      ]
     },
     "execution_count": 5,
     "metadata": {},
     "output_type": "execute_result"
    }
   ],
   "source": [
    "df.columns"
   ]
  },
  {
   "cell_type": "code",
   "execution_count": 6,
   "metadata": {},
   "outputs": [
    {
     "data": {
      "text/html": [
       "<div>\n",
       "<style scoped>\n",
       "    .dataframe tbody tr th:only-of-type {\n",
       "        vertical-align: middle;\n",
       "    }\n",
       "\n",
       "    .dataframe tbody tr th {\n",
       "        vertical-align: top;\n",
       "    }\n",
       "\n",
       "    .dataframe thead th {\n",
       "        text-align: right;\n",
       "    }\n",
       "</style>\n",
       "<table border=\"1\" class=\"dataframe\">\n",
       "  <thead>\n",
       "    <tr style=\"text-align: right;\">\n",
       "      <th></th>\n",
       "      <th>Date Posted</th>\n",
       "      <th>Job Title</th>\n",
       "      <th>Job Salary</th>\n",
       "      <th>Job Experience Required</th>\n",
       "      <th>Key Skills</th>\n",
       "      <th>Role Category</th>\n",
       "      <th>Location</th>\n",
       "      <th>Functional Area</th>\n",
       "      <th>Industry</th>\n",
       "      <th>Role</th>\n",
       "    </tr>\n",
       "  </thead>\n",
       "  <tbody>\n",
       "    <tr>\n",
       "      <th>0</th>\n",
       "      <td>05-07-2019</td>\n",
       "      <td>Digital Media Planner</td>\n",
       "      <td>Not Disclosed by Recruiter</td>\n",
       "      <td>5 - 10 yrs</td>\n",
       "      <td>Media Planning  Digital Media</td>\n",
       "      <td>Advertising</td>\n",
       "      <td>Mumbai</td>\n",
       "      <td>Marketing , Advertising , MR , PR , Media Plan...</td>\n",
       "      <td>Advertising, PR, MR, Event Management</td>\n",
       "      <td>Media Planning Executive/Manager</td>\n",
       "    </tr>\n",
       "    <tr>\n",
       "      <th>1</th>\n",
       "      <td>06-07-2019</td>\n",
       "      <td>Online Bidding Executive</td>\n",
       "      <td>Not Disclosed by Recruiter</td>\n",
       "      <td>2 - 5 yrs</td>\n",
       "      <td>pre sales  closing  software knowledge  clien...</td>\n",
       "      <td>Retail Sales</td>\n",
       "      <td>Pune,Pune</td>\n",
       "      <td>Sales , Retail , Business Development</td>\n",
       "      <td>IT-Software, Software Services</td>\n",
       "      <td>Sales Executive/Officer</td>\n",
       "    </tr>\n",
       "    <tr>\n",
       "      <th>2</th>\n",
       "      <td>05-08-2019</td>\n",
       "      <td>Trainee Research/ Research Executive- Hi- Tec...</td>\n",
       "      <td>Not Disclosed by Recruiter</td>\n",
       "      <td>0 - 1 yrs</td>\n",
       "      <td>Computer science  Fabrication  Quality check ...</td>\n",
       "      <td>R&amp;D</td>\n",
       "      <td>Gurgaon</td>\n",
       "      <td>Engineering Design , R&amp;D</td>\n",
       "      <td>Recruitment, Staffing</td>\n",
       "      <td>R&amp;D Executive</td>\n",
       "    </tr>\n",
       "    <tr>\n",
       "      <th>3</th>\n",
       "      <td>05-08-2019</td>\n",
       "      <td>Technical Support</td>\n",
       "      <td>2,00,000 - 4,00,000 PA.</td>\n",
       "      <td>0 - 5 yrs</td>\n",
       "      <td>Technical Support</td>\n",
       "      <td>Admin/Maintenance/Security/Datawarehousing</td>\n",
       "      <td>Mumbai</td>\n",
       "      <td>IT Software - Application Programming , Mainte...</td>\n",
       "      <td>IT-Software, Software Services</td>\n",
       "      <td>Technical Support Engineer</td>\n",
       "    </tr>\n",
       "    <tr>\n",
       "      <th>4</th>\n",
       "      <td>05-07-2019</td>\n",
       "      <td>Software Test Engineer -hyderabad</td>\n",
       "      <td>Not Disclosed by Recruiter</td>\n",
       "      <td>2 - 5 yrs</td>\n",
       "      <td>manual testing  test engineering  test cases ...</td>\n",
       "      <td>Programming &amp; Design</td>\n",
       "      <td>Hyderabad</td>\n",
       "      <td>IT Software - QA &amp; Testing</td>\n",
       "      <td>IT-Software, Software Services</td>\n",
       "      <td>Testing Engineer</td>\n",
       "    </tr>\n",
       "  </tbody>\n",
       "</table>\n",
       "</div>"
      ],
      "text/plain": [
       "  Date Posted                                          Job Title  \\\n",
       "0  05-07-2019                              Digital Media Planner   \n",
       "1  06-07-2019                           Online Bidding Executive   \n",
       "2  05-08-2019   Trainee Research/ Research Executive- Hi- Tec...   \n",
       "3  05-08-2019                                  Technical Support   \n",
       "4  05-07-2019                  Software Test Engineer -hyderabad   \n",
       "\n",
       "                     Job Salary Job Experience Required  \\\n",
       "0   Not Disclosed by Recruiter               5 - 10 yrs   \n",
       "1   Not Disclosed by Recruiter                2 - 5 yrs   \n",
       "2   Not Disclosed by Recruiter                0 - 1 yrs   \n",
       "3      2,00,000 - 4,00,000 PA.                0 - 5 yrs   \n",
       "4   Not Disclosed by Recruiter                2 - 5 yrs   \n",
       "\n",
       "                                          Key Skills  \\\n",
       "0                      Media Planning  Digital Media   \n",
       "1   pre sales  closing  software knowledge  clien...   \n",
       "2   Computer science  Fabrication  Quality check ...   \n",
       "3                                  Technical Support   \n",
       "4   manual testing  test engineering  test cases ...   \n",
       "\n",
       "                                Role Category   Location  \\\n",
       "0                                 Advertising     Mumbai   \n",
       "1                                Retail Sales  Pune,Pune   \n",
       "2                                         R&D    Gurgaon   \n",
       "3  Admin/Maintenance/Security/Datawarehousing     Mumbai   \n",
       "4                        Programming & Design  Hyderabad   \n",
       "\n",
       "                                     Functional Area  \\\n",
       "0  Marketing , Advertising , MR , PR , Media Plan...   \n",
       "1              Sales , Retail , Business Development   \n",
       "2                           Engineering Design , R&D   \n",
       "3  IT Software - Application Programming , Mainte...   \n",
       "4                         IT Software - QA & Testing   \n",
       "\n",
       "                                Industry                              Role  \n",
       "0  Advertising, PR, MR, Event Management  Media Planning Executive/Manager  \n",
       "1         IT-Software, Software Services           Sales Executive/Officer  \n",
       "2                  Recruitment, Staffing                     R&D Executive  \n",
       "3         IT-Software, Software Services        Technical Support Engineer  \n",
       "4         IT-Software, Software Services                  Testing Engineer  "
      ]
     },
     "execution_count": 6,
     "metadata": {},
     "output_type": "execute_result"
    }
   ],
   "source": [
    "df.head()"
   ]
  },
  {
   "cell_type": "code",
   "execution_count": 7,
   "metadata": {},
   "outputs": [
    {
     "data": {
      "text/plain": [
       "(27005, 10)"
      ]
     },
     "execution_count": 7,
     "metadata": {},
     "output_type": "execute_result"
    }
   ],
   "source": [
    "df.shape"
   ]
  },
  {
   "cell_type": "code",
   "execution_count": 8,
   "metadata": {},
   "outputs": [
    {
     "data": {
      "text/plain": [
       "Index(['Date Posted', 'Job Title', 'Job Salary', 'Job Experience Required',\n",
       "       'Key Skills', 'Role Category', 'Location', 'Functional Area',\n",
       "       'Industry', 'Role'],\n",
       "      dtype='object')"
      ]
     },
     "execution_count": 8,
     "metadata": {},
     "output_type": "execute_result"
    }
   ],
   "source": [
    "df.columns"
   ]
  },
  {
   "cell_type": "code",
   "execution_count": 9,
   "metadata": {},
   "outputs": [],
   "source": [
    "tool_keywords1 = ['python', 'pytorch', 'sql', 'mxnet', 'mlflow', 'einstein', 'theano', 'pyspark', 'solr', 'mahout', \n",
    " 'cassandra', 'aws', 'powerpoint', 'spark', 'pig', 'sas', 'java', 'nosql', 'docker', 'salesforce', 'scala', 'r',\n",
    " 'c', 'c++', 'net', 'tableau', 'pandas', 'scikitlearn', 'sklearn', 'matlab', 'scala', 'keras', 'tensorflow', 'clojure',\n",
    " 'caffe', 'scipy', 'numpy', 'matplotlib', 'vba', 'spss', 'linux', 'azure', 'cloud', 'gcp', 'mongodb', 'mysql', 'oracle', \n",
    " 'redshift', 'snowflake', 'kafka', 'javascript', 'qlik', 'jupyter', 'perl', 'bigquery', 'unix', 'react', \n",
    "'scikit', 'powerbi', 's3', 'ec2', 'lambda', 'ssrs', 'kubernetes', 'hana', 'spacy', 'tf', 'django', 'sagemaker',\n",
    " 'seaborn', 'mllib', 'github', 'git', 'elasticsearch', 'splunk', 'airflow', 'looker', 'rapidminer', 'birt', 'pentaho', \n",
    " 'jquery', 'nodejs', 'd3', 'plotly', 'bokeh', 'xgboost', 'rstudio', 'shiny', 'dash', 'h20', 'h2o', 'hadoop', 'mapreduce', \n",
    " 'hive', 'cognos', 'angular', 'nltk', 'flask', 'node', 'firebase', 'bigtable', 'rust', 'php', 'cntk', 'lightgbm', \n",
    " 'kubeflow', 'rpython', 'unixlinux', 'postgressql', 'postgresql', 'postgres', 'hbase', 'dask', 'ruby', 'julia', 'tensor',\n",
    " 'Data', 'data', 'Analytics', 'Learning', 'SQL', 'Analysis', 'Business', 'Machine', 'Python', 'SAS', 'R', 'Excel', 'Science', \n",
    " 'Management', 'analysis', 'Modeling', 'Analyst', 'analytics', 'Statistics', 'management', 'Intelligence', 'Mining', 'learning', \n",
    " 'business', 'Big', 'Statistical', 'Deep', 'Visualization', 'Tableau', 'intelligence', 'Spark', 'Skills', 'ETL', 'MS', 'research', \n",
    " 'machine', 'Hadoop', 'python', 'Research', 'mining', 'sql', 'Advanced', 'excel', 'Reporting', 'reporting', 'Quality', 'Java', 'Customer',\n",
    "   'MIS', 'skills', 'modeling', 'Computer', 'Regression', 'NoSQL', 'operations', 'Presentation', 'analyst', 'risk', 'Powerpoint', 'ms', \n",
    "   'communication', 'AWS', 'Design', 'Logistic', 'algorithms', 'advanced', 'architecture', 'Operations', 'Segmentation', 'Loans', 'Scala', \n",
    "   'Algorithm', 'Server', 'Warehousing', 'science', 'VBA', 'Senior', 'Hive', 'Predictive', 'warehouse', 'extraction', 'MATLAB', 'market', \n",
    "   'Javascript', 'office', 'Communication', 'mis', 'vba', 'tools', 'Informatica', 'Artificial', 'java', 'visualization', 'NLP', 'Technology', \n",
    "   'segmentation', 'Office', 'Preparation', 'Problem', 'Solving', 'System', 'Scripting', 'Algorithms', 'Relationship', 'Objects', 'SAP', \n",
    "   'Vision', 'Testing', 'Database', 'XML', 'handling', 'client', 'Social', 'Media', 'Consultant', 'Software', 'Reconciliation', 'HR',\n",
    "# added r packages doesn't seem to impact the result\n",
    " 'dplyr','ggplot2','esquisse','bioconductor','shiny','lubridate','knitr','mlr','quanteda','dt','rcrawler','caret','rmarkdown',\n",
    " 'leaflet','janitor','ggvis','plotly','rcharts','rbokeh','broom','stringr','magrittr','slidify','rvest',\n",
    " 'rmysql','rsqlite','prophet','glmnet','text2vec','snowballc','quantmod','rstan','swirl','datasciencer']\n",
    "\n",
    "\n",
    "# another set of keywords that are longer than one word.\n",
    "tool_keywords2 = set(['amazon web services', 'google cloud', 'sql server'])"
   ]
  },
  {
   "cell_type": "code",
   "execution_count": 10,
   "metadata": {},
   "outputs": [],
   "source": [
    "# hard skills/knowledge required.\n",
    "skill_keywords1 = set(['statistics', 'cleansing', 'chatbot', 'cleaning', 'blockchain', 'causality', 'correlation', 'bandit', 'anomaly', 'kpi',\n",
    " 'dashboard', 'geospatial', 'ocr', 'econometrics', 'pca', 'gis', 'svm', 'svd', 'tuning', 'hyperparameter', 'hypothesis',\n",
    " 'salesforcecom', 'segmentation', 'biostatistics', 'unsupervised', 'supervised', 'exploratory',\n",
    " 'recommender', 'recommendations', 'research', 'sequencing', 'probability', 'reinforcement', 'graph', 'bioinformatics',\n",
    " 'chi', 'knn', 'outlier', 'etl', 'normalization', 'classification', 'optimizing', 'prediction', 'forecasting',\n",
    " 'clustering', 'cluster', 'optimization', 'visualization', 'nlp', 'c#',\n",
    " 'regression', 'logistic', 'nn', 'cnn', 'glm',\n",
    " 'rnn', 'lstm', 'gbm', 'boosting', 'recurrent', 'convolutional', 'bayesian',\n",
    " 'bayes'])\n",
    "\n",
    "\n",
    "# another set of keywords that are longer than one word.\n",
    "skill_keywords2 = set(['random forest', 'natural language processing', 'machine learning', 'decision tree', 'deep learning', 'experimental design',\n",
    " 'time series', 'nearest neighbors', 'neural network', 'support vector machine', 'computer vision', 'machine vision', 'dimensionality reduction', \n",
    " 'text analytics', 'power bi', 'a/b testing', 'ab testing', 'chat bot', 'data mining'])\n",
    "\n",
    "degree_dict = {'bs': 1, 'bachelor': 1, 'undergraduate': 1, \n",
    "               'master': 2, 'graduate': 2, 'mba': 2.5, \n",
    "               'phd': 3, 'ph.d': 3, 'ba': 1, 'ma': 2,\n",
    "               'postdoctoral': 4, 'postdoc': 4, 'doctorate': 3}\n",
    "\n",
    "\n",
    "degree_dict2 = {'advanced degree': 2, 'ms or': 2, 'ms degree': 2, '4 year degree': 1, 'bs/': 1, 'ba/': 1,\n",
    "                '4-year degree': 1, 'b.s.': 1, 'm.s.': 2, 'm.s': 2, 'b.s': 1, 'phd/': 3, 'ph.d.': 3, 'ms/': 2,\n",
    "                'm.s/': 2, 'm.s./': 2, 'msc/': 2, 'master/': 2, 'master\\'s/': 2, 'bachelor\\s/': 1}\n",
    "degree_keywords2 = set(degree_dict2.keys())"
   ]
  },
  {
   "cell_type": "code",
   "execution_count": 11,
   "metadata": {},
   "outputs": [
    {
     "data": {
      "text/plain": [
       "5               Opening For Adobe Analytics Specialist\n",
       "6       Sales- Fresher-for Leading Property Consultant\n",
       "7     Opportunity For Azure Devops Architect For Hy...\n",
       "8                                            BDE- PUNE\n",
       "9                   Technical Support/ Product Support\n",
       "Name: Job Title, dtype: object"
      ]
     },
     "execution_count": 11,
     "metadata": {},
     "output_type": "execute_result"
    }
   ],
   "source": [
    "df['Job Title'].iloc[5:10]"
   ]
  },
  {
   "cell_type": "code",
   "execution_count": 12,
   "metadata": {},
   "outputs": [
    {
     "data": {
      "text/plain": [
       "['Opening', 'For', 'Adobe', 'Analytics', 'Specialist']"
      ]
     },
     "execution_count": 12,
     "metadata": {},
     "output_type": "execute_result"
    }
   ],
   "source": [
    "word_tokenize(df['Job Title'].iloc[5])\n"
   ]
  },
  {
   "cell_type": "code",
   "execution_count": 13,
   "metadata": {},
   "outputs": [
    {
     "data": {
      "text/plain": [
       "[('python', 'NN'),\n",
       " ('pytorch', 'NN'),\n",
       " ('sql', 'JJ'),\n",
       " ('mxnet', 'NN'),\n",
       " ('mlflow', 'NN'),\n",
       " ('einstein', 'NN'),\n",
       " ('theano', 'NN'),\n",
       " ('pyspark', 'NN'),\n",
       " ('solr', 'NN'),\n",
       " ('mahout', 'NN'),\n",
       " ('cassandra', 'NN'),\n",
       " ('aws', 'VBZ'),\n",
       " ('powerpoint', 'JJ'),\n",
       " ('spark', 'NN'),\n",
       " ('pig', 'NN'),\n",
       " ('sas', 'NN'),\n",
       " ('java', 'NN'),\n",
       " ('nosql', 'JJ'),\n",
       " ('docker', 'NN'),\n",
       " ('salesforce', 'NN'),\n",
       " ('scala', 'NN'),\n",
       " ('r', 'NN'),\n",
       " ('c', 'VBP'),\n",
       " ('c++', 'JJ'),\n",
       " ('net', 'JJ'),\n",
       " ('tableau', 'NN'),\n",
       " ('pandas', 'NN'),\n",
       " ('scikitlearn', 'NN'),\n",
       " ('sklearn', 'NN'),\n",
       " ('matlab', 'NN'),\n",
       " ('scala', 'NN'),\n",
       " ('keras', 'NNS'),\n",
       " ('tensorflow', 'JJ'),\n",
       " ('clojure', 'NN'),\n",
       " ('caffe', 'NN'),\n",
       " ('scipy', 'NN'),\n",
       " ('numpy', 'JJ'),\n",
       " ('matplotlib', 'NN'),\n",
       " ('vba', 'NN'),\n",
       " ('spss', 'NN'),\n",
       " ('linux', 'JJ'),\n",
       " ('azure', 'NN'),\n",
       " ('cloud', 'NN'),\n",
       " ('gcp', 'NN'),\n",
       " ('mongodb', 'NN'),\n",
       " ('mysql', 'NN'),\n",
       " ('oracle', 'NN'),\n",
       " ('redshift', 'NN'),\n",
       " ('snowflake', 'VBP'),\n",
       " ('kafka', 'NN'),\n",
       " ('javascript', 'NN'),\n",
       " ('qlik', 'NN'),\n",
       " ('jupyter', 'NN'),\n",
       " ('perl', 'NN'),\n",
       " ('bigquery', 'NN'),\n",
       " ('unix', 'JJ'),\n",
       " ('react', 'JJ'),\n",
       " ('scikit', 'NN'),\n",
       " ('powerbi', 'NN'),\n",
       " ('s3', 'NN'),\n",
       " ('ec2', 'NN'),\n",
       " ('lambda', 'NN'),\n",
       " ('ssrs', 'NN'),\n",
       " ('kubernetes', 'VBZ'),\n",
       " ('hana', 'JJ'),\n",
       " ('spacy', 'NN'),\n",
       " ('tf', 'NN'),\n",
       " ('django', 'NN'),\n",
       " ('sagemaker', 'NN'),\n",
       " ('seaborn', 'VBD'),\n",
       " ('mllib', 'JJ'),\n",
       " ('github', 'NN'),\n",
       " ('git', 'NN'),\n",
       " ('elasticsearch', 'VBP'),\n",
       " ('splunk', 'NN'),\n",
       " ('airflow', 'NN'),\n",
       " ('looker', 'NN'),\n",
       " ('rapidminer', 'NN'),\n",
       " ('birt', 'NN'),\n",
       " ('pentaho', 'NN'),\n",
       " ('jquery', 'NN'),\n",
       " ('nodejs', 'NN'),\n",
       " ('d3', 'NN'),\n",
       " ('plotly', 'RB'),\n",
       " ('bokeh', 'VBZ'),\n",
       " ('xgboost', 'JJ'),\n",
       " ('rstudio', 'NN'),\n",
       " ('shiny', 'JJ'),\n",
       " ('dash', 'NN'),\n",
       " ('h20', 'NN'),\n",
       " ('h2o', 'NN'),\n",
       " ('hadoop', 'NN'),\n",
       " ('mapreduce', 'VBP'),\n",
       " ('hive', 'JJ'),\n",
       " ('cognos', 'NNS'),\n",
       " ('angular', 'JJ'),\n",
       " ('nltk', 'JJ'),\n",
       " ('flask', 'NN'),\n",
       " ('node', 'JJ'),\n",
       " ('firebase', 'NN'),\n",
       " ('bigtable', 'JJ'),\n",
       " ('rust', 'NN'),\n",
       " ('php', 'NN'),\n",
       " ('cntk', 'NN'),\n",
       " ('lightgbm', 'NN'),\n",
       " ('kubeflow', 'VB'),\n",
       " ('rpython', 'NN'),\n",
       " ('unixlinux', 'JJ'),\n",
       " ('postgressql', 'NN'),\n",
       " ('postgresql', 'NN'),\n",
       " ('postgres', 'VBZ'),\n",
       " ('hbase', 'JJ'),\n",
       " ('dask', 'NN'),\n",
       " ('ruby', 'NN'),\n",
       " ('julia', 'NN'),\n",
       " ('tensor', 'NN'),\n",
       " ('Data', 'NNP'),\n",
       " ('data', 'NN'),\n",
       " ('Analytics', 'NNP'),\n",
       " ('Learning', 'NNP'),\n",
       " ('SQL', 'NNP'),\n",
       " ('Analysis', 'NNP'),\n",
       " ('Business', 'NNP'),\n",
       " ('Machine', 'NNP'),\n",
       " ('Python', 'NNP'),\n",
       " ('SAS', 'NNP'),\n",
       " ('R', 'NNP'),\n",
       " ('Excel', 'NNP'),\n",
       " ('Science', 'NNP'),\n",
       " ('Management', 'NNP'),\n",
       " ('analysis', 'NN'),\n",
       " ('Modeling', 'NNP'),\n",
       " ('Analyst', 'NNP'),\n",
       " ('analytics', 'VBD'),\n",
       " ('Statistics', 'NNPS'),\n",
       " ('management', 'NN'),\n",
       " ('Intelligence', 'NNP'),\n",
       " ('Mining', 'NNP'),\n",
       " ('learning', 'NN'),\n",
       " ('business', 'NN'),\n",
       " ('Big', 'NNP'),\n",
       " ('Statistical', 'NNP'),\n",
       " ('Deep', 'NNP'),\n",
       " ('Visualization', 'NNP'),\n",
       " ('Tableau', 'NNP'),\n",
       " ('intelligence', 'NN'),\n",
       " ('Spark', 'NNP'),\n",
       " ('Skills', 'NNP'),\n",
       " ('ETL', 'NNP'),\n",
       " ('MS', 'NNP'),\n",
       " ('research', 'NN'),\n",
       " ('machine', 'NN'),\n",
       " ('Hadoop', 'NNP'),\n",
       " ('python', 'NN'),\n",
       " ('Research', 'NNP'),\n",
       " ('mining', 'NN'),\n",
       " ('sql', 'NN'),\n",
       " ('Advanced', 'NNP'),\n",
       " ('excel', 'NN'),\n",
       " ('Reporting', 'VBG'),\n",
       " ('reporting', 'VBG'),\n",
       " ('Quality', 'NNP'),\n",
       " ('Java', 'NNP'),\n",
       " ('Customer', 'NNP'),\n",
       " ('MIS', 'NNP'),\n",
       " ('skills', 'VBZ'),\n",
       " ('modeling', 'VBG'),\n",
       " ('Computer', 'NNP'),\n",
       " ('Regression', 'NNP'),\n",
       " ('NoSQL', 'NNP'),\n",
       " ('operations', 'NNS'),\n",
       " ('Presentation', 'NNP'),\n",
       " ('analyst', 'NN'),\n",
       " ('risk', 'NN'),\n",
       " ('Powerpoint', 'NNP'),\n",
       " ('ms', 'NN'),\n",
       " ('communication', 'NN'),\n",
       " ('AWS', 'NNP'),\n",
       " ('Design', 'NNP'),\n",
       " ('Logistic', 'NNP'),\n",
       " ('algorithms', 'NN'),\n",
       " ('advanced', 'VBD'),\n",
       " ('architecture', 'JJ'),\n",
       " ('Operations', 'NNPS'),\n",
       " ('Segmentation', 'NNP'),\n",
       " ('Loans', 'NNP'),\n",
       " ('Scala', 'NNP'),\n",
       " ('Algorithm', 'NNP'),\n",
       " ('Server', 'NNP'),\n",
       " ('Warehousing', 'NNP'),\n",
       " ('science', 'NN'),\n",
       " ('VBA', 'NNP'),\n",
       " ('Senior', 'NNP'),\n",
       " ('Hive', 'NNP'),\n",
       " ('Predictive', 'NNP'),\n",
       " ('warehouse', 'NN'),\n",
       " ('extraction', 'NN'),\n",
       " ('MATLAB', 'NNP'),\n",
       " ('market', 'NN'),\n",
       " ('Javascript', 'NNP'),\n",
       " ('office', 'NN'),\n",
       " ('Communication', 'NNP'),\n",
       " ('mis', 'NN'),\n",
       " ('vba', 'NN'),\n",
       " ('tools', 'NNS'),\n",
       " ('Informatica', 'NNP'),\n",
       " ('Artificial', 'NNP'),\n",
       " ('java', 'NN'),\n",
       " ('visualization', 'NN'),\n",
       " ('NLP', 'NNP'),\n",
       " ('Technology', 'NNP'),\n",
       " ('segmentation', 'NN'),\n",
       " ('Office', 'NNP'),\n",
       " ('Preparation', 'NNP'),\n",
       " ('Problem', 'NNP'),\n",
       " ('Solving', 'NNP'),\n",
       " ('System', 'NNP'),\n",
       " ('Scripting', 'NNP'),\n",
       " ('Algorithms', 'NNP'),\n",
       " ('Relationship', 'NNP'),\n",
       " ('Objects', 'NNP'),\n",
       " ('SAP', 'NNP'),\n",
       " ('Vision', 'NNP'),\n",
       " ('Testing', 'NNP'),\n",
       " ('Database', 'NNP'),\n",
       " ('XML', 'NNP'),\n",
       " ('handling', 'VBG'),\n",
       " ('client', 'NN'),\n",
       " ('Social', 'NNP'),\n",
       " ('Media', 'NNP'),\n",
       " ('Consultant', 'NNP'),\n",
       " ('Software', 'NNP'),\n",
       " ('Reconciliation', 'NNP'),\n",
       " ('HR', 'NNP'),\n",
       " ('dplyr', 'NN'),\n",
       " ('ggplot2', 'NN'),\n",
       " ('esquisse', 'NN'),\n",
       " ('bioconductor', 'NN'),\n",
       " ('shiny', 'JJ'),\n",
       " ('lubridate', 'NN'),\n",
       " ('knitr', 'NN'),\n",
       " ('mlr', 'NN'),\n",
       " ('quanteda', 'NN'),\n",
       " ('dt', 'NN'),\n",
       " ('rcrawler', 'NN'),\n",
       " ('caret', 'JJ'),\n",
       " ('rmarkdown', 'JJ'),\n",
       " ('leaflet', 'NN'),\n",
       " ('janitor', 'NN'),\n",
       " ('ggvis', 'NN'),\n",
       " ('plotly', 'RB'),\n",
       " ('rcharts', 'VBZ'),\n",
       " ('rbokeh', 'NN'),\n",
       " ('broom', 'NN'),\n",
       " ('stringr', 'NN'),\n",
       " ('magrittr', 'NN'),\n",
       " ('slidify', 'VB'),\n",
       " ('rvest', 'JJS'),\n",
       " ('rmysql', 'NN'),\n",
       " ('rsqlite', 'NN'),\n",
       " ('prophet', 'JJ'),\n",
       " ('glmnet', 'NN'),\n",
       " ('text2vec', 'NN'),\n",
       " ('snowballc', 'NN'),\n",
       " ('quantmod', 'NN'),\n",
       " ('rstan', 'NN'),\n",
       " ('swirl', 'NN'),\n",
       " ('datasciencer', 'NN')]"
      ]
     },
     "execution_count": 13,
     "metadata": {},
     "output_type": "execute_result"
    }
   ],
   "source": [
    "from nltk import pos_tag\n",
    "from nltk.stem import PorterStemmer\n",
    "\n",
    "pos_tag(tool_keywords1)"
   ]
  },
  {
   "cell_type": "code",
   "execution_count": 14,
   "metadata": {},
   "outputs": [],
   "source": [
    "from nltk import pos_tag\n",
    "from nltk.stem import PorterStemmer\n",
    "\n",
    "ps = PorterStemmer()\n",
    "\n",
    "\n",
    "# process the job description.\n",
    "def prepare_job_desc(desc):\n",
    "    # tokenize description.\n",
    "    tokens = word_tokenize(desc)\n",
    "        \n",
    "    # Parts of speech (POS) tag tokens.\n",
    "    token_tag = pos_tag(tokens)\n",
    "    \n",
    "    # Only include some of the POS tags.\n",
    "    include_tags = ['VBN', 'VBD', 'JJ', 'JJS', 'JJR', 'CD', 'NN', 'NNS', 'NNP', 'NNPS']\n",
    "    filtered_tokens = [tok for tok, tag in token_tag if tag in include_tags]\n",
    "    \n",
    "    # stem words.\n",
    "    stemmed_tokens = [ps.stem(tok).lower() for tok in filtered_tokens]\n",
    "    return set(stemmed_tokens)\n",
    "\n",
    "df['job_description_word_set'] = df['Key Skills'].map(prepare_job_desc)\n",
    "\n",
    "# process the keywords\n",
    "tool_keywords1_set = set([ps.stem(tok) for tok in tool_keywords1]) # stem the keywords (since the job description is also stemmed.)\n",
    "tool_keywords1_dict = {ps.stem(tok):tok for tok in tool_keywords1} # use this dictionary to revert the stemmed words back to the original.\n",
    "\n",
    "skill_keywords1_set = set([ps.stem(tok) for tok in skill_keywords1])\n",
    "skill_keywords1_dict = {ps.stem(tok):tok for tok in skill_keywords1}    \n",
    "\n",
    "degree_keywords1_set = set([ps.stem(tok) for tok in degree_dict.keys()])\n",
    "degree_keywords1_dict = {ps.stem(tok):tok for tok in degree_dict.keys()}\n"
   ]
  },
  {
   "cell_type": "code",
   "execution_count": 15,
   "metadata": {},
   "outputs": [
    {
     "data": {
      "text/plain": [
       "{'achiev',\n",
       " 'manag',\n",
       " 'negoti',\n",
       " 'packag',\n",
       " 'revenu',\n",
       " 'skill',\n",
       " 'target',\n",
       " 'tour',\n",
       " 'tourism'}"
      ]
     },
     "execution_count": 15,
     "metadata": {},
     "output_type": "execute_result"
    }
   ],
   "source": [
    "df['job_description_word_set'].iloc[50]\n"
   ]
  },
  {
   "cell_type": "code",
   "execution_count": 16,
   "metadata": {},
   "outputs": [],
   "source": [
    "tool_list = []\n",
    "skill_list = []\n",
    "degree_list = []\n",
    "\n",
    "msk = df['Job Title'] != '' # just in case you want to filter the data.\n",
    "\n",
    "num_postings = len(df[msk].index)\n",
    "for i in range(num_postings):\n",
    "    job_desc = df[msk].iloc[i]['Key Skills'].lower()\n",
    "    job_desc_set = df[msk].iloc[i]['job_description_word_set']\n",
    "    \n",
    "    # check if the keywords are in the job description. Look for exact match by token.\n",
    "    tool_words = tool_keywords1_set.intersection(job_desc_set)\n",
    "    skill_words = skill_keywords1_set.intersection(job_desc_set)\n",
    "    degree_words = degree_keywords1_set.intersection(job_desc_set)\n",
    "    \n",
    "    # check if longer keywords (more than one word) are in the job description. Match by substring.\n",
    "    j = 0\n",
    "    for tool_keyword2 in tool_keywords2:\n",
    "        # tool keywords.\n",
    "        if tool_keyword2 in job_desc:\n",
    "            tool_list.append(tool_keyword2)\n",
    "            j += 1\n",
    "    \n",
    "    k = 0\n",
    "    for skill_keyword2 in skill_keywords2:\n",
    "        # skill keywords.\n",
    "        if skill_keyword2 in job_desc:\n",
    "            skill_list.append(skill_keyword2)\n",
    "            k += 1\n",
    "            \n",
    "       # search for the minimum education.\n",
    "    min_education_level = 999\n",
    "    for degree_word in degree_words:\n",
    "        level = degree_dict[degree_keywords1_dict[degree_word]]\n",
    "        min_education_level = min(min_education_level, level)\n",
    "    \n",
    "    for degree_keyword2 in degree_keywords2:\n",
    "        # longer keywords. Match by substring.\n",
    "        if degree_keyword2 in job_desc:\n",
    "            level = degree_dict2[degree_keyword2]\n",
    "            min_education_level = min(min_education_level, level)\n",
    "    \n",
    "    # label the job descriptions without any tool keywords.\n",
    "    if len(tool_words) == 0 and j == 0:\n",
    "        tool_list.append('nothing specified')\n",
    "    \n",
    "    # label the job descriptions without any skill keywords.\n",
    "    if len(skill_words) == 0 and k == 0:\n",
    "        skill_list.append('nothing specified')\n",
    "    \n",
    "    # # If none of the keywords were found, but the word degree is present, then assume it's a bachelors level.\n",
    "    # if min_education_level > 500:\n",
    "    #     if 'degree' in job_desc:\n",
    "    #         min_education_level = 1\n",
    "    \n",
    "    tool_list += list(tool_words)\n",
    "    skill_list += list(skill_words)\n",
    "    #degree_list.append(min_education_level)"
   ]
  },
  {
   "cell_type": "code",
   "execution_count": 17,
   "metadata": {},
   "outputs": [],
   "source": [
    "# create the list of tools.\n",
    "df_tool = pd.DataFrame(data={'cnt': tool_list})\n",
    "df_tool = df_tool.replace(tool_keywords1_dict)\n",
    "\n",
    "# group some of the categories together.\n",
    "msk = df_tool['cnt'] == 'h20'\n",
    "df_tool.loc[msk, 'cnt'] = 'h2o'\n",
    "\n",
    "msk = df_tool['cnt'] == 'aws'\n",
    "df_tool.loc[msk, 'cnt'] = 'amazon web services'\n",
    "\n",
    "msk = df_tool['cnt'] == 'gcp'\n",
    "df_tool.loc[msk, 'cnt'] = 'google cloud'\n",
    "\n",
    "msk = df_tool['cnt'] == 'github'\n",
    "df_tool.loc[msk, 'cnt'] = 'git'\n",
    "\n",
    "msk = df_tool['cnt'] == 'postgressql'\n",
    "df_tool.loc[msk, 'cnt'] = 'postgres'\n",
    "\n",
    "msk = df_tool['cnt'] == 'tensor'\n",
    "df_tool.loc[msk, 'cnt'] = 'tensorflow'\n",
    "\n",
    "df_tool_top50 = df_tool['cnt'].value_counts().reset_index().rename(columns={'index': 'tool'}).iloc[:50]"
   ]
  },
  {
   "cell_type": "code",
   "execution_count": 18,
   "metadata": {},
   "outputs": [
    {
     "data": {
      "application/vnd.plotly.v1+json": {
       "config": {
        "linkText": "Export to plot.ly",
        "plotlyServerURL": "https://plot.ly",
        "showLink": false
       },
       "data": [
        {
         "type": "bar",
         "x": [
          "management",
          "nothing specified",
          "business",
          "Customer",
          "market",
          "Design",
          "Javascript",
          "sql",
          "data",
          "Operations",
          "Software",
          "analytics",
          "skills",
          "java",
          "Office",
          "c",
          "Technology",
          "analysis",
          "Relationship",
          "python",
          "Communication",
          "jquery",
          "Research",
          "Quality",
          "System",
          "Computer",
          "Testing",
          "mysql",
          "ms",
          "HR",
          "oracle",
          "science",
          "linux",
          "client",
          "php",
          "Media",
          "Server",
          "Consultant",
          "XML",
          "Social",
          "SAP",
          "Database",
          "excel",
          "architecture",
          "Senior",
          "reporting",
          "tools",
          "c++",
          "analyst",
          "risk"
         ],
         "y": [
          0.28113312349564895,
          0.15534160340677652,
          0.14586187743010554,
          0.10709127939270506,
          0.09087206072949454,
          0.0905387891131272,
          0.0826143306795038,
          0.08128124421403443,
          0.07543047583780782,
          0.06654323273467877,
          0.06502499537122755,
          0.06365487872616182,
          0.060470283280873914,
          0.05865580448065173,
          0.05121273838178115,
          0.0507683762266247,
          0.04976856137752268,
          0.048472505091649694,
          0.04343640066654323,
          0.0428439177930013,
          0.04202925384188113,
          0.04043695611923718,
          0.03703017959637104,
          0.03699314941677467,
          0.03699314941677467,
          0.035215700796148865,
          0.034993519718570634,
          0.03477133864099241,
          0.03447509720422144,
          0.03425291612664321,
          0.03295685984077023,
          0.03229031660803555,
          0.03169783373449361,
          0.030698018885391594,
          0.030401777448620625,
          0.029253841881133124,
          0.02706906128494723,
          0.02695797074615812,
          0.025661914460285134,
          0.02558785410109239,
          0.025069431586743195,
          0.024291797815219403,
          0.023329013145713756,
          0.022292168117015367,
          0.02103314201073875,
          0.020773930753564155,
          0.019440844288094797,
          0.01836696907980004,
          0.0177744862062581,
          0.017107942973523423
         ]
        }
       ],
       "layout": {
        "template": {
         "data": {
          "bar": [
           {
            "error_x": {
             "color": "#2a3f5f"
            },
            "error_y": {
             "color": "#2a3f5f"
            },
            "marker": {
             "line": {
              "color": "#E5ECF6",
              "width": 0.5
             },
             "pattern": {
              "fillmode": "overlay",
              "size": 10,
              "solidity": 0.2
             }
            },
            "type": "bar"
           }
          ],
          "barpolar": [
           {
            "marker": {
             "line": {
              "color": "#E5ECF6",
              "width": 0.5
             },
             "pattern": {
              "fillmode": "overlay",
              "size": 10,
              "solidity": 0.2
             }
            },
            "type": "barpolar"
           }
          ],
          "carpet": [
           {
            "aaxis": {
             "endlinecolor": "#2a3f5f",
             "gridcolor": "white",
             "linecolor": "white",
             "minorgridcolor": "white",
             "startlinecolor": "#2a3f5f"
            },
            "baxis": {
             "endlinecolor": "#2a3f5f",
             "gridcolor": "white",
             "linecolor": "white",
             "minorgridcolor": "white",
             "startlinecolor": "#2a3f5f"
            },
            "type": "carpet"
           }
          ],
          "choropleth": [
           {
            "colorbar": {
             "outlinewidth": 0,
             "ticks": ""
            },
            "type": "choropleth"
           }
          ],
          "contour": [
           {
            "colorbar": {
             "outlinewidth": 0,
             "ticks": ""
            },
            "colorscale": [
             [
              0,
              "#0d0887"
             ],
             [
              0.1111111111111111,
              "#46039f"
             ],
             [
              0.2222222222222222,
              "#7201a8"
             ],
             [
              0.3333333333333333,
              "#9c179e"
             ],
             [
              0.4444444444444444,
              "#bd3786"
             ],
             [
              0.5555555555555556,
              "#d8576b"
             ],
             [
              0.6666666666666666,
              "#ed7953"
             ],
             [
              0.7777777777777778,
              "#fb9f3a"
             ],
             [
              0.8888888888888888,
              "#fdca26"
             ],
             [
              1,
              "#f0f921"
             ]
            ],
            "type": "contour"
           }
          ],
          "contourcarpet": [
           {
            "colorbar": {
             "outlinewidth": 0,
             "ticks": ""
            },
            "type": "contourcarpet"
           }
          ],
          "heatmap": [
           {
            "colorbar": {
             "outlinewidth": 0,
             "ticks": ""
            },
            "colorscale": [
             [
              0,
              "#0d0887"
             ],
             [
              0.1111111111111111,
              "#46039f"
             ],
             [
              0.2222222222222222,
              "#7201a8"
             ],
             [
              0.3333333333333333,
              "#9c179e"
             ],
             [
              0.4444444444444444,
              "#bd3786"
             ],
             [
              0.5555555555555556,
              "#d8576b"
             ],
             [
              0.6666666666666666,
              "#ed7953"
             ],
             [
              0.7777777777777778,
              "#fb9f3a"
             ],
             [
              0.8888888888888888,
              "#fdca26"
             ],
             [
              1,
              "#f0f921"
             ]
            ],
            "type": "heatmap"
           }
          ],
          "heatmapgl": [
           {
            "colorbar": {
             "outlinewidth": 0,
             "ticks": ""
            },
            "colorscale": [
             [
              0,
              "#0d0887"
             ],
             [
              0.1111111111111111,
              "#46039f"
             ],
             [
              0.2222222222222222,
              "#7201a8"
             ],
             [
              0.3333333333333333,
              "#9c179e"
             ],
             [
              0.4444444444444444,
              "#bd3786"
             ],
             [
              0.5555555555555556,
              "#d8576b"
             ],
             [
              0.6666666666666666,
              "#ed7953"
             ],
             [
              0.7777777777777778,
              "#fb9f3a"
             ],
             [
              0.8888888888888888,
              "#fdca26"
             ],
             [
              1,
              "#f0f921"
             ]
            ],
            "type": "heatmapgl"
           }
          ],
          "histogram": [
           {
            "marker": {
             "pattern": {
              "fillmode": "overlay",
              "size": 10,
              "solidity": 0.2
             }
            },
            "type": "histogram"
           }
          ],
          "histogram2d": [
           {
            "colorbar": {
             "outlinewidth": 0,
             "ticks": ""
            },
            "colorscale": [
             [
              0,
              "#0d0887"
             ],
             [
              0.1111111111111111,
              "#46039f"
             ],
             [
              0.2222222222222222,
              "#7201a8"
             ],
             [
              0.3333333333333333,
              "#9c179e"
             ],
             [
              0.4444444444444444,
              "#bd3786"
             ],
             [
              0.5555555555555556,
              "#d8576b"
             ],
             [
              0.6666666666666666,
              "#ed7953"
             ],
             [
              0.7777777777777778,
              "#fb9f3a"
             ],
             [
              0.8888888888888888,
              "#fdca26"
             ],
             [
              1,
              "#f0f921"
             ]
            ],
            "type": "histogram2d"
           }
          ],
          "histogram2dcontour": [
           {
            "colorbar": {
             "outlinewidth": 0,
             "ticks": ""
            },
            "colorscale": [
             [
              0,
              "#0d0887"
             ],
             [
              0.1111111111111111,
              "#46039f"
             ],
             [
              0.2222222222222222,
              "#7201a8"
             ],
             [
              0.3333333333333333,
              "#9c179e"
             ],
             [
              0.4444444444444444,
              "#bd3786"
             ],
             [
              0.5555555555555556,
              "#d8576b"
             ],
             [
              0.6666666666666666,
              "#ed7953"
             ],
             [
              0.7777777777777778,
              "#fb9f3a"
             ],
             [
              0.8888888888888888,
              "#fdca26"
             ],
             [
              1,
              "#f0f921"
             ]
            ],
            "type": "histogram2dcontour"
           }
          ],
          "mesh3d": [
           {
            "colorbar": {
             "outlinewidth": 0,
             "ticks": ""
            },
            "type": "mesh3d"
           }
          ],
          "parcoords": [
           {
            "line": {
             "colorbar": {
              "outlinewidth": 0,
              "ticks": ""
             }
            },
            "type": "parcoords"
           }
          ],
          "pie": [
           {
            "automargin": true,
            "type": "pie"
           }
          ],
          "scatter": [
           {
            "fillpattern": {
             "fillmode": "overlay",
             "size": 10,
             "solidity": 0.2
            },
            "type": "scatter"
           }
          ],
          "scatter3d": [
           {
            "line": {
             "colorbar": {
              "outlinewidth": 0,
              "ticks": ""
             }
            },
            "marker": {
             "colorbar": {
              "outlinewidth": 0,
              "ticks": ""
             }
            },
            "type": "scatter3d"
           }
          ],
          "scattercarpet": [
           {
            "marker": {
             "colorbar": {
              "outlinewidth": 0,
              "ticks": ""
             }
            },
            "type": "scattercarpet"
           }
          ],
          "scattergeo": [
           {
            "marker": {
             "colorbar": {
              "outlinewidth": 0,
              "ticks": ""
             }
            },
            "type": "scattergeo"
           }
          ],
          "scattergl": [
           {
            "marker": {
             "colorbar": {
              "outlinewidth": 0,
              "ticks": ""
             }
            },
            "type": "scattergl"
           }
          ],
          "scattermapbox": [
           {
            "marker": {
             "colorbar": {
              "outlinewidth": 0,
              "ticks": ""
             }
            },
            "type": "scattermapbox"
           }
          ],
          "scatterpolar": [
           {
            "marker": {
             "colorbar": {
              "outlinewidth": 0,
              "ticks": ""
             }
            },
            "type": "scatterpolar"
           }
          ],
          "scatterpolargl": [
           {
            "marker": {
             "colorbar": {
              "outlinewidth": 0,
              "ticks": ""
             }
            },
            "type": "scatterpolargl"
           }
          ],
          "scatterternary": [
           {
            "marker": {
             "colorbar": {
              "outlinewidth": 0,
              "ticks": ""
             }
            },
            "type": "scatterternary"
           }
          ],
          "surface": [
           {
            "colorbar": {
             "outlinewidth": 0,
             "ticks": ""
            },
            "colorscale": [
             [
              0,
              "#0d0887"
             ],
             [
              0.1111111111111111,
              "#46039f"
             ],
             [
              0.2222222222222222,
              "#7201a8"
             ],
             [
              0.3333333333333333,
              "#9c179e"
             ],
             [
              0.4444444444444444,
              "#bd3786"
             ],
             [
              0.5555555555555556,
              "#d8576b"
             ],
             [
              0.6666666666666666,
              "#ed7953"
             ],
             [
              0.7777777777777778,
              "#fb9f3a"
             ],
             [
              0.8888888888888888,
              "#fdca26"
             ],
             [
              1,
              "#f0f921"
             ]
            ],
            "type": "surface"
           }
          ],
          "table": [
           {
            "cells": {
             "fill": {
              "color": "#EBF0F8"
             },
             "line": {
              "color": "white"
             }
            },
            "header": {
             "fill": {
              "color": "#C8D4E3"
             },
             "line": {
              "color": "white"
             }
            },
            "type": "table"
           }
          ]
         },
         "layout": {
          "annotationdefaults": {
           "arrowcolor": "#2a3f5f",
           "arrowhead": 0,
           "arrowwidth": 1
          },
          "autotypenumbers": "strict",
          "coloraxis": {
           "colorbar": {
            "outlinewidth": 0,
            "ticks": ""
           }
          },
          "colorscale": {
           "diverging": [
            [
             0,
             "#8e0152"
            ],
            [
             0.1,
             "#c51b7d"
            ],
            [
             0.2,
             "#de77ae"
            ],
            [
             0.3,
             "#f1b6da"
            ],
            [
             0.4,
             "#fde0ef"
            ],
            [
             0.5,
             "#f7f7f7"
            ],
            [
             0.6,
             "#e6f5d0"
            ],
            [
             0.7,
             "#b8e186"
            ],
            [
             0.8,
             "#7fbc41"
            ],
            [
             0.9,
             "#4d9221"
            ],
            [
             1,
             "#276419"
            ]
           ],
           "sequential": [
            [
             0,
             "#0d0887"
            ],
            [
             0.1111111111111111,
             "#46039f"
            ],
            [
             0.2222222222222222,
             "#7201a8"
            ],
            [
             0.3333333333333333,
             "#9c179e"
            ],
            [
             0.4444444444444444,
             "#bd3786"
            ],
            [
             0.5555555555555556,
             "#d8576b"
            ],
            [
             0.6666666666666666,
             "#ed7953"
            ],
            [
             0.7777777777777778,
             "#fb9f3a"
            ],
            [
             0.8888888888888888,
             "#fdca26"
            ],
            [
             1,
             "#f0f921"
            ]
           ],
           "sequentialminus": [
            [
             0,
             "#0d0887"
            ],
            [
             0.1111111111111111,
             "#46039f"
            ],
            [
             0.2222222222222222,
             "#7201a8"
            ],
            [
             0.3333333333333333,
             "#9c179e"
            ],
            [
             0.4444444444444444,
             "#bd3786"
            ],
            [
             0.5555555555555556,
             "#d8576b"
            ],
            [
             0.6666666666666666,
             "#ed7953"
            ],
            [
             0.7777777777777778,
             "#fb9f3a"
            ],
            [
             0.8888888888888888,
             "#fdca26"
            ],
            [
             1,
             "#f0f921"
            ]
           ]
          },
          "colorway": [
           "#636efa",
           "#EF553B",
           "#00cc96",
           "#ab63fa",
           "#FFA15A",
           "#19d3f3",
           "#FF6692",
           "#B6E880",
           "#FF97FF",
           "#FECB52"
          ],
          "font": {
           "color": "#2a3f5f"
          },
          "geo": {
           "bgcolor": "white",
           "lakecolor": "white",
           "landcolor": "#E5ECF6",
           "showlakes": true,
           "showland": true,
           "subunitcolor": "white"
          },
          "hoverlabel": {
           "align": "left"
          },
          "hovermode": "closest",
          "mapbox": {
           "style": "light"
          },
          "paper_bgcolor": "white",
          "plot_bgcolor": "#E5ECF6",
          "polar": {
           "angularaxis": {
            "gridcolor": "white",
            "linecolor": "white",
            "ticks": ""
           },
           "bgcolor": "#E5ECF6",
           "radialaxis": {
            "gridcolor": "white",
            "linecolor": "white",
            "ticks": ""
           }
          },
          "scene": {
           "xaxis": {
            "backgroundcolor": "#E5ECF6",
            "gridcolor": "white",
            "gridwidth": 2,
            "linecolor": "white",
            "showbackground": true,
            "ticks": "",
            "zerolinecolor": "white"
           },
           "yaxis": {
            "backgroundcolor": "#E5ECF6",
            "gridcolor": "white",
            "gridwidth": 2,
            "linecolor": "white",
            "showbackground": true,
            "ticks": "",
            "zerolinecolor": "white"
           },
           "zaxis": {
            "backgroundcolor": "#E5ECF6",
            "gridcolor": "white",
            "gridwidth": 2,
            "linecolor": "white",
            "showbackground": true,
            "ticks": "",
            "zerolinecolor": "white"
           }
          },
          "shapedefaults": {
           "line": {
            "color": "#2a3f5f"
           }
          },
          "ternary": {
           "aaxis": {
            "gridcolor": "white",
            "linecolor": "white",
            "ticks": ""
           },
           "baxis": {
            "gridcolor": "white",
            "linecolor": "white",
            "ticks": ""
           },
           "bgcolor": "#E5ECF6",
           "caxis": {
            "gridcolor": "white",
            "linecolor": "white",
            "ticks": ""
           }
          },
          "title": {
           "x": 0.05
          },
          "xaxis": {
           "automargin": true,
           "gridcolor": "white",
           "linecolor": "white",
           "ticks": "",
           "title": {
            "standoff": 15
           },
           "zerolinecolor": "white",
           "zerolinewidth": 2
          },
          "yaxis": {
           "automargin": true,
           "gridcolor": "white",
           "linecolor": "white",
           "ticks": "",
           "title": {
            "standoff": 15
           },
           "zerolinecolor": "white",
           "zerolinewidth": 2
          }
         }
        },
        "title": {
         "text": "Tools For Data Scientists"
        },
        "yaxis": {
         "tickformat": ",.0%",
         "title": {
          "text": "% of job postings"
         }
        }
       }
      }
     },
     "metadata": {},
     "output_type": "display_data"
    }
   ],
   "source": [
    "# visualize the tools.\n",
    "layout = dict(\n",
    "    title='Tools For Data Scientists',\n",
    "    yaxis=dict(\n",
    "        title='% of job postings',\n",
    "        tickformat=',.0%',\n",
    "    )\n",
    ")\n",
    "\n",
    "fig = go.Figure(layout=layout)\n",
    "fig.add_trace(go.Bar(\n",
    "    x=df_tool_top50['tool'],\n",
    "    y=df_tool_top50['cnt']/num_postings\n",
    "))\n",
    "\n",
    "iplot(fig)"
   ]
  },
  {
   "cell_type": "markdown",
   "metadata": {},
   "source": [
    "cleaning and miscellaneous"
   ]
  },
  {
   "cell_type": "code",
   "execution_count": 19,
   "metadata": {},
   "outputs": [
    {
     "name": "stdout",
     "output_type": "stream",
     "text": [
      "Requirement already satisfied: nbformat in c:\\users\\prana\\appdata\\local\\packages\\pythonsoftwarefoundation.python.3.10_qbz5n2kfra8p0\\localcache\\local-packages\\python310\\site-packages (5.9.0)\n",
      "Requirement already satisfied: fastjsonschema in c:\\users\\prana\\appdata\\local\\packages\\pythonsoftwarefoundation.python.3.10_qbz5n2kfra8p0\\localcache\\local-packages\\python310\\site-packages (from nbformat) (2.17.1)\n",
      "Requirement already satisfied: jsonschema>=2.6 in c:\\users\\prana\\appdata\\local\\packages\\pythonsoftwarefoundation.python.3.10_qbz5n2kfra8p0\\localcache\\local-packages\\python310\\site-packages (from nbformat) (4.18.0)\n",
      "Requirement already satisfied: jupyter-core in c:\\users\\prana\\appdata\\local\\packages\\pythonsoftwarefoundation.python.3.10_qbz5n2kfra8p0\\localcache\\local-packages\\python310\\site-packages (from nbformat) (5.3.0)\n",
      "Requirement already satisfied: traitlets>=5.1 in c:\\users\\prana\\appdata\\local\\packages\\pythonsoftwarefoundation.python.3.10_qbz5n2kfra8p0\\localcache\\local-packages\\python310\\site-packages (from nbformat) (5.9.0)\n",
      "Requirement already satisfied: referencing>=0.28.4 in c:\\users\\prana\\appdata\\local\\packages\\pythonsoftwarefoundation.python.3.10_qbz5n2kfra8p0\\localcache\\local-packages\\python310\\site-packages (from jsonschema>=2.6->nbformat) (0.29.1)\n",
      "Requirement already satisfied: attrs>=22.2.0 in c:\\users\\prana\\appdata\\local\\packages\\pythonsoftwarefoundation.python.3.10_qbz5n2kfra8p0\\localcache\\local-packages\\python310\\site-packages (from jsonschema>=2.6->nbformat) (23.1.0)\n",
      "Requirement already satisfied: rpds-py>=0.7.1 in c:\\users\\prana\\appdata\\local\\packages\\pythonsoftwarefoundation.python.3.10_qbz5n2kfra8p0\\localcache\\local-packages\\python310\\site-packages (from jsonschema>=2.6->nbformat) (0.8.10)\n",
      "Requirement already satisfied: jsonschema-specifications>=2023.03.6 in c:\\users\\prana\\appdata\\local\\packages\\pythonsoftwarefoundation.python.3.10_qbz5n2kfra8p0\\localcache\\local-packages\\python310\\site-packages (from jsonschema>=2.6->nbformat) (2023.6.1)\n",
      "Requirement already satisfied: pywin32>=300 in c:\\users\\prana\\appdata\\local\\packages\\pythonsoftwarefoundation.python.3.10_qbz5n2kfra8p0\\localcache\\local-packages\\python310\\site-packages (from jupyter-core->nbformat) (306)\n",
      "Requirement already satisfied: platformdirs>=2.5 in c:\\users\\prana\\appdata\\local\\packages\\pythonsoftwarefoundation.python.3.10_qbz5n2kfra8p0\\localcache\\local-packages\\python310\\site-packages (from jupyter-core->nbformat) (3.5.0)\n"
     ]
    },
    {
     "name": "stderr",
     "output_type": "stream",
     "text": [
      "\n",
      "[notice] A new release of pip is available: 23.0.1 -> 23.1.2\n",
      "[notice] To update, run: C:\\Users\\prana\\AppData\\Local\\Microsoft\\WindowsApps\\PythonSoftwareFoundation.Python.3.10_qbz5n2kfra8p0\\python.exe -m pip install --upgrade pip\n"
     ]
    }
   ],
   "source": [
    "!pip install nbformat"
   ]
  },
  {
   "cell_type": "code",
   "execution_count": 20,
   "metadata": {},
   "outputs": [],
   "source": [
    "import pandas as pd\n",
    "\n",
    "# Read the CSV file into a DataFrame\n",
    "df = pd.read_csv('job_data1.csv')\n",
    "\n",
    "# Drop rows with NaN or null values\n",
    "df.dropna(inplace=True)\n",
    "\n",
    "# Write the updated DataFrame back to the CSV file\n",
    "df.to_csv('job_data1.csv', index=False)\n"
   ]
  },
  {
   "cell_type": "code",
   "execution_count": 21,
   "metadata": {},
   "outputs": [
    {
     "name": "stderr",
     "output_type": "stream",
     "text": [
      "C:\\Users\\prana\\AppData\\Local\\Temp\\ipykernel_17200\\2429952391.py:6: FutureWarning:\n",
      "\n",
      "The default value of regex will change from True to False in a future version. In addition, single character regular expressions will *not* be treated as literal strings when regex=True.\n",
      "\n"
     ]
    }
   ],
   "source": [
    "import pandas as pd\n",
    "\n",
    "# Assuming you have a DataFrame named 'df' with a column named 'Key Skill'\n",
    "\n",
    "# Replace '|' with ' ' in the 'Key Skill' column\n",
    "df['Key Skills'] = df['Key Skills'].str.replace('|', ' ')\n"
   ]
  },
  {
   "cell_type": "code",
   "execution_count": 22,
   "metadata": {},
   "outputs": [
    {
     "ename": "KeyError",
     "evalue": "\"['Uniq Id'] not found in axis\"",
     "output_type": "error",
     "traceback": [
      "\u001b[1;31m---------------------------------------------------------------------------\u001b[0m",
      "\u001b[1;31mKeyError\u001b[0m                                  Traceback (most recent call last)",
      "Cell \u001b[1;32mIn[22], line 1\u001b[0m\n\u001b[1;32m----> 1\u001b[0m df\u001b[39m.\u001b[39;49mdrop(\u001b[39m'\u001b[39;49m\u001b[39mUniq Id\u001b[39;49m\u001b[39m'\u001b[39;49m, axis\u001b[39m=\u001b[39;49m \u001b[39m1\u001b[39;49m)\n\u001b[0;32m      2\u001b[0m df\u001b[39m.\u001b[39mto_csv(\u001b[39m'\u001b[39m\u001b[39mjob_data1.csv\u001b[39m\u001b[39m'\u001b[39m, index\u001b[39m=\u001b[39m\u001b[39mFalse\u001b[39;00m)\n",
      "File \u001b[1;32m~\\AppData\\Local\\Packages\\PythonSoftwareFoundation.Python.3.10_qbz5n2kfra8p0\\LocalCache\\local-packages\\Python310\\site-packages\\pandas\\util\\_decorators.py:331\u001b[0m, in \u001b[0;36mdeprecate_nonkeyword_arguments.<locals>.decorate.<locals>.wrapper\u001b[1;34m(*args, **kwargs)\u001b[0m\n\u001b[0;32m    325\u001b[0m \u001b[39mif\u001b[39;00m \u001b[39mlen\u001b[39m(args) \u001b[39m>\u001b[39m num_allow_args:\n\u001b[0;32m    326\u001b[0m     warnings\u001b[39m.\u001b[39mwarn(\n\u001b[0;32m    327\u001b[0m         msg\u001b[39m.\u001b[39mformat(arguments\u001b[39m=\u001b[39m_format_argument_list(allow_args)),\n\u001b[0;32m    328\u001b[0m         \u001b[39mFutureWarning\u001b[39;00m,\n\u001b[0;32m    329\u001b[0m         stacklevel\u001b[39m=\u001b[39mfind_stack_level(),\n\u001b[0;32m    330\u001b[0m     )\n\u001b[1;32m--> 331\u001b[0m \u001b[39mreturn\u001b[39;00m func(\u001b[39m*\u001b[39margs, \u001b[39m*\u001b[39m\u001b[39m*\u001b[39mkwargs)\n",
      "File \u001b[1;32m~\\AppData\\Local\\Packages\\PythonSoftwareFoundation.Python.3.10_qbz5n2kfra8p0\\LocalCache\\local-packages\\Python310\\site-packages\\pandas\\core\\frame.py:5399\u001b[0m, in \u001b[0;36mDataFrame.drop\u001b[1;34m(self, labels, axis, index, columns, level, inplace, errors)\u001b[0m\n\u001b[0;32m   5251\u001b[0m \u001b[39m@deprecate_nonkeyword_arguments\u001b[39m(version\u001b[39m=\u001b[39m\u001b[39mNone\u001b[39;00m, allowed_args\u001b[39m=\u001b[39m[\u001b[39m\"\u001b[39m\u001b[39mself\u001b[39m\u001b[39m\"\u001b[39m, \u001b[39m\"\u001b[39m\u001b[39mlabels\u001b[39m\u001b[39m\"\u001b[39m])\n\u001b[0;32m   5252\u001b[0m \u001b[39mdef\u001b[39;00m \u001b[39mdrop\u001b[39m(  \u001b[39m# type: ignore[override]\u001b[39;00m\n\u001b[0;32m   5253\u001b[0m     \u001b[39mself\u001b[39m,\n\u001b[1;32m   (...)\u001b[0m\n\u001b[0;32m   5260\u001b[0m     errors: IgnoreRaise \u001b[39m=\u001b[39m \u001b[39m\"\u001b[39m\u001b[39mraise\u001b[39m\u001b[39m\"\u001b[39m,\n\u001b[0;32m   5261\u001b[0m ) \u001b[39m-\u001b[39m\u001b[39m>\u001b[39m DataFrame \u001b[39m|\u001b[39m \u001b[39mNone\u001b[39;00m:\n\u001b[0;32m   5262\u001b[0m \u001b[39m    \u001b[39m\u001b[39m\"\"\"\u001b[39;00m\n\u001b[0;32m   5263\u001b[0m \u001b[39m    Drop specified labels from rows or columns.\u001b[39;00m\n\u001b[0;32m   5264\u001b[0m \n\u001b[1;32m   (...)\u001b[0m\n\u001b[0;32m   5397\u001b[0m \u001b[39m            weight  1.0     0.8\u001b[39;00m\n\u001b[0;32m   5398\u001b[0m \u001b[39m    \"\"\"\u001b[39;00m\n\u001b[1;32m-> 5399\u001b[0m     \u001b[39mreturn\u001b[39;00m \u001b[39msuper\u001b[39;49m()\u001b[39m.\u001b[39;49mdrop(\n\u001b[0;32m   5400\u001b[0m         labels\u001b[39m=\u001b[39;49mlabels,\n\u001b[0;32m   5401\u001b[0m         axis\u001b[39m=\u001b[39;49maxis,\n\u001b[0;32m   5402\u001b[0m         index\u001b[39m=\u001b[39;49mindex,\n\u001b[0;32m   5403\u001b[0m         columns\u001b[39m=\u001b[39;49mcolumns,\n\u001b[0;32m   5404\u001b[0m         level\u001b[39m=\u001b[39;49mlevel,\n\u001b[0;32m   5405\u001b[0m         inplace\u001b[39m=\u001b[39;49minplace,\n\u001b[0;32m   5406\u001b[0m         errors\u001b[39m=\u001b[39;49merrors,\n\u001b[0;32m   5407\u001b[0m     )\n",
      "File \u001b[1;32m~\\AppData\\Local\\Packages\\PythonSoftwareFoundation.Python.3.10_qbz5n2kfra8p0\\LocalCache\\local-packages\\Python310\\site-packages\\pandas\\util\\_decorators.py:331\u001b[0m, in \u001b[0;36mdeprecate_nonkeyword_arguments.<locals>.decorate.<locals>.wrapper\u001b[1;34m(*args, **kwargs)\u001b[0m\n\u001b[0;32m    325\u001b[0m \u001b[39mif\u001b[39;00m \u001b[39mlen\u001b[39m(args) \u001b[39m>\u001b[39m num_allow_args:\n\u001b[0;32m    326\u001b[0m     warnings\u001b[39m.\u001b[39mwarn(\n\u001b[0;32m    327\u001b[0m         msg\u001b[39m.\u001b[39mformat(arguments\u001b[39m=\u001b[39m_format_argument_list(allow_args)),\n\u001b[0;32m    328\u001b[0m         \u001b[39mFutureWarning\u001b[39;00m,\n\u001b[0;32m    329\u001b[0m         stacklevel\u001b[39m=\u001b[39mfind_stack_level(),\n\u001b[0;32m    330\u001b[0m     )\n\u001b[1;32m--> 331\u001b[0m \u001b[39mreturn\u001b[39;00m func(\u001b[39m*\u001b[39margs, \u001b[39m*\u001b[39m\u001b[39m*\u001b[39mkwargs)\n",
      "File \u001b[1;32m~\\AppData\\Local\\Packages\\PythonSoftwareFoundation.Python.3.10_qbz5n2kfra8p0\\LocalCache\\local-packages\\Python310\\site-packages\\pandas\\core\\generic.py:4505\u001b[0m, in \u001b[0;36mNDFrame.drop\u001b[1;34m(self, labels, axis, index, columns, level, inplace, errors)\u001b[0m\n\u001b[0;32m   4503\u001b[0m \u001b[39mfor\u001b[39;00m axis, labels \u001b[39min\u001b[39;00m axes\u001b[39m.\u001b[39mitems():\n\u001b[0;32m   4504\u001b[0m     \u001b[39mif\u001b[39;00m labels \u001b[39mis\u001b[39;00m \u001b[39mnot\u001b[39;00m \u001b[39mNone\u001b[39;00m:\n\u001b[1;32m-> 4505\u001b[0m         obj \u001b[39m=\u001b[39m obj\u001b[39m.\u001b[39;49m_drop_axis(labels, axis, level\u001b[39m=\u001b[39;49mlevel, errors\u001b[39m=\u001b[39;49merrors)\n\u001b[0;32m   4507\u001b[0m \u001b[39mif\u001b[39;00m inplace:\n\u001b[0;32m   4508\u001b[0m     \u001b[39mself\u001b[39m\u001b[39m.\u001b[39m_update_inplace(obj)\n",
      "File \u001b[1;32m~\\AppData\\Local\\Packages\\PythonSoftwareFoundation.Python.3.10_qbz5n2kfra8p0\\LocalCache\\local-packages\\Python310\\site-packages\\pandas\\core\\generic.py:4546\u001b[0m, in \u001b[0;36mNDFrame._drop_axis\u001b[1;34m(self, labels, axis, level, errors, only_slice)\u001b[0m\n\u001b[0;32m   4544\u001b[0m         new_axis \u001b[39m=\u001b[39m axis\u001b[39m.\u001b[39mdrop(labels, level\u001b[39m=\u001b[39mlevel, errors\u001b[39m=\u001b[39merrors)\n\u001b[0;32m   4545\u001b[0m     \u001b[39melse\u001b[39;00m:\n\u001b[1;32m-> 4546\u001b[0m         new_axis \u001b[39m=\u001b[39m axis\u001b[39m.\u001b[39;49mdrop(labels, errors\u001b[39m=\u001b[39;49merrors)\n\u001b[0;32m   4547\u001b[0m     indexer \u001b[39m=\u001b[39m axis\u001b[39m.\u001b[39mget_indexer(new_axis)\n\u001b[0;32m   4549\u001b[0m \u001b[39m# Case for non-unique axis\u001b[39;00m\n\u001b[0;32m   4550\u001b[0m \u001b[39melse\u001b[39;00m:\n",
      "File \u001b[1;32m~\\AppData\\Local\\Packages\\PythonSoftwareFoundation.Python.3.10_qbz5n2kfra8p0\\LocalCache\\local-packages\\Python310\\site-packages\\pandas\\core\\indexes\\base.py:6934\u001b[0m, in \u001b[0;36mIndex.drop\u001b[1;34m(self, labels, errors)\u001b[0m\n\u001b[0;32m   6932\u001b[0m \u001b[39mif\u001b[39;00m mask\u001b[39m.\u001b[39many():\n\u001b[0;32m   6933\u001b[0m     \u001b[39mif\u001b[39;00m errors \u001b[39m!=\u001b[39m \u001b[39m\"\u001b[39m\u001b[39mignore\u001b[39m\u001b[39m\"\u001b[39m:\n\u001b[1;32m-> 6934\u001b[0m         \u001b[39mraise\u001b[39;00m \u001b[39mKeyError\u001b[39;00m(\u001b[39mf\u001b[39m\u001b[39m\"\u001b[39m\u001b[39m{\u001b[39;00m\u001b[39mlist\u001b[39m(labels[mask])\u001b[39m}\u001b[39;00m\u001b[39m not found in axis\u001b[39m\u001b[39m\"\u001b[39m)\n\u001b[0;32m   6935\u001b[0m     indexer \u001b[39m=\u001b[39m indexer[\u001b[39m~\u001b[39mmask]\n\u001b[0;32m   6936\u001b[0m \u001b[39mreturn\u001b[39;00m \u001b[39mself\u001b[39m\u001b[39m.\u001b[39mdelete(indexer)\n",
      "\u001b[1;31mKeyError\u001b[0m: \"['Uniq Id'] not found in axis\""
     ]
    }
   ],
   "source": [
    "df.drop('Uniq Id', axis= 1)\n",
    "df.to_csv('job_data1.csv', index=False)"
   ]
  },
  {
   "cell_type": "code",
   "execution_count": null,
   "metadata": {},
   "outputs": [
    {
     "data": {
      "text/plain": [
       "Index(['Uniq Id', 'Date Posted', 'Job Title', 'Job Salary',\n",
       "       'Job Experience Required', 'Key Skills', 'Role Category', 'Location',\n",
       "       'Functional Area', 'Industry', 'Role'],\n",
       "      dtype='object')"
      ]
     },
     "execution_count": 48,
     "metadata": {},
     "output_type": "execute_result"
    }
   ],
   "source": [
    "df.columns"
   ]
  }
 ],
 "metadata": {
  "kernelspec": {
   "display_name": "Python 3",
   "language": "python",
   "name": "python3"
  },
  "language_info": {
   "codemirror_mode": {
    "name": "ipython",
    "version": 3
   },
   "file_extension": ".py",
   "mimetype": "text/x-python",
   "name": "python",
   "nbconvert_exporter": "python",
   "pygments_lexer": "ipython3",
   "version": "3.10.11"
  },
  "orig_nbformat": 4
 },
 "nbformat": 4,
 "nbformat_minor": 2
}
